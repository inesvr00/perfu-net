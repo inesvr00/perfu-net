{
 "cells": [
  {
   "cell_type": "code",
   "execution_count": null,
   "metadata": {
    "vscode": {
     "languageId": "plaintext"
    }
   },
   "outputs": [],
   "source": [
    "import os\n",
    "import glob\n",
    "import SimpleITK as sitk\n",
    "import numpy as np\n",
    "from einops import rearrange"
   ]
  },
  {
   "cell_type": "code",
   "execution_count": null,
   "metadata": {
    "vscode": {
     "languageId": "plaintext"
    }
   },
   "outputs": [],
   "source": [
    "# 1. Obtener los IDs de caso y los slices disponibles a partir de los archivos en la carpeta CTP\n",
    "ctp_folder = \"/data/dev/perfu-net-1/data/train/CTP\"\n",
    "ctp_files = glob.glob(os.path.join(ctp_folder, \"case_*.npy\"))\n",
    "ctp_slices = {}  # Diccionario: key = case_id, value = set de slices (ej: \"01\", \"02\", ...)\n",
    "\n",
    "for file in ctp_files:\n",
    "    base = os.path.basename(file)  # ejemplo: \"case_12_04.npy\" o \"case_1_04.npy\"\n",
    "    parts = base.split(\"_\")\n",
    "    if len(parts) >= 3:\n",
    "        # Convertir el ID a dos dígitos (por ejemplo, \"1\" -> \"01\")\n",
    "        case_id = parts[1].zfill(2)\n",
    "        # Extraer el número de slice removiendo la extensión .npy (ej: \"04.npy\" -> \"04\")\n",
    "        slice_num = os.path.splitext(parts[2])[0]\n",
    "        if case_id not in ctp_slices:\n",
    "            ctp_slices[case_id] = set()\n",
    "        ctp_slices[case_id].add(slice_num)\n",
    "\n",
    "print(\"Casos presentes en CTP:\", list(ctp_slices.keys()))\n",
    "\n",
    "# 2. Buscar todas las máscaras en TRAINING que tengan \"OT\" en su path\n",
    "training_path = \"/data/ISLES-2018/TRAINING\"\n",
    "mask_files = glob.glob(os.path.join(training_path, \"case_*\", \"**\", \"*OT*.nii\"), recursive=True)\n",
    "\n",
    "# Carpeta de salida para las máscaras\n",
    "mask_output_folder = \"/data/dev/perfu-net/data/train/MASK\"\n",
    "os.makedirs(mask_output_folder, exist_ok=True)\n",
    "\n",
    "# 3. Procesar cada archivo de máscara encontrado\n",
    "for mask_file in mask_files:\n",
    "    # Extraer el ID de caso a partir de la ruta. Se asume que el path contiene una carpeta con formato \"case_X\" o \"case_XX\"\n",
    "    parts = mask_file.split(os.sep)\n",
    "    case_name = None\n",
    "    for part in parts:\n",
    "        if part.startswith(\"case_\"):\n",
    "            case_name = part  # Ej: \"case_12\" o \"case_1\"\n",
    "            break\n",
    "\n",
    "    if case_name is None:\n",
    "        print(f\"No se encontró el ID de caso en {mask_file}. Se omite.\")\n",
    "        continue\n",
    "\n",
    "    # Extraer el número de caso y convertirlo a dos dígitos\n",
    "    patient_id_raw = case_name.split(\"_\")[1]\n",
    "    patient_id = patient_id_raw.zfill(2)\n",
    "    \n",
    "    # Solo procesar si el caso también está en CTP (con slices disponibles)\n",
    "    if patient_id not in ctp_slices:\n",
    "        print(f\"Paciente {patient_id} no está en CTP. Se omite {mask_file}.\")\n",
    "        continue\n",
    "\n",
    "    print(f\"Procesando máscara para paciente {patient_id}: {mask_file}\")\n",
    "    \n",
    "    # 3.1. Cargar la máscara usando SimpleITK y convertir a array NumPy\n",
    "    mask_image = sitk.ReadImage(mask_file)\n",
    "    mask_array = sitk.GetArrayFromImage(mask_image)\n",
    "    # Por defecto, mask_array tiene forma (d, h, w) donde d es la cantidad de slices.\n",
    "    # Reorganizamos a (h, w, d) para que z=0 corresponda a case_XX_01\n",
    "    mask_array = rearrange(mask_array, 'd h w -> h w d')\n",
    "    \n",
    "    # Obtener el conjunto de slices disponibles para este paciente en CTP\n",
    "    available_slices = ctp_slices[patient_id]\n",
    "    \n",
    "    # 3.2. Dividir la máscara por cada slice (componente z)\n",
    "    num_slices = mask_array.shape[2]\n",
    "    for z in range(num_slices):\n",
    "        # El número de slice se formatea como z+1 con 2 dígitos (z=0 -> \"01\")\n",
    "        slice_num = str(z+1).zfill(2)\n",
    "        if slice_num not in available_slices:\n",
    "            print(f\"Slice {slice_num} no está en CTP para paciente {patient_id}. Se omite.\")\n",
    "            continue\n",
    "        slice_mask = mask_array[:, :, z]\n",
    "        # Nombrado: \"case_{patient_id}_{slice_num}.npy\"\n",
    "        out_filename = f\"case_{patient_id}_{slice_num}.npy\"\n",
    "        out_path = os.path.join(mask_output_folder, out_filename)\n",
    "        np.save(out_path, slice_mask)\n",
    "        print(f\"Guardado slice z={z} (archivo {out_filename}) en {out_path}\")\n"
   ]
  }
 ],
 "metadata": {
  "language_info": {
   "name": "python"
  }
 },
 "nbformat": 4,
 "nbformat_minor": 2
}
