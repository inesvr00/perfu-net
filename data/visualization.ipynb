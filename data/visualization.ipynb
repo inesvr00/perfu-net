{
 "cells": [
  {
   "cell_type": "code",
   "execution_count": null,
   "metadata": {
    "vscode": {
     "languageId": "plaintext"
    }
   },
   "outputs": [],
   "source": [
    "%matplotlib inline"
   ]
  },
  {
   "cell_type": "code",
   "execution_count": null,
   "metadata": {
    "vscode": {
     "languageId": "plaintext"
    }
   },
   "outputs": [],
   "source": [
    "import numpy as np\n",
    "import matplotlib.pyplot as plt\n",
    "from ipywidgets import interact, IntSlider"
   ]
  },
  {
   "cell_type": "code",
   "execution_count": null,
   "metadata": {
    "vscode": {
     "languageId": "plaintext"
    }
   },
   "outputs": [],
   "source": [
    "def visualize_medical_image(file_path):\n",
    "    \"\"\"\n",
    "    Visualiza una imagen médica almacenada en un archivo .npy con forma [24,2,256,256].\n",
    "    \n",
    "    Se despliega una interfaz interactiva para explorar:\n",
    "      - Time (primer eje, valores de 0 a 23)\n",
    "      - Modalidad (segundo eje, 0 o 1)\n",
    "      \n",
    "    Parámetros:\n",
    "      file_path: str\n",
    "          Ruta al archivo .npy (por ejemplo, 'case_01_02.npy')\n",
    "    \"\"\"\n",
    "    # Carga la imagen\n",
    "    img = np.load(file_path)\n",
    "    print(\"Shape de la imagen cargada:\", img.shape)\n",
    "    \n",
    "    # Función interna que muestra la imagen según los índices seleccionados\n",
    "    def display_image(slice_index, modality_index):\n",
    "        plt.figure(figsize=(5, 5))\n",
    "        plt.imshow(img[slice_index, modality_index, :, :], cmap=\"gray\")\n",
    "        plt.title(f\"Slice {slice_index} - Modalidad {modality_index}\")\n",
    "        plt.axis('off')\n",
    "        plt.show()\n",
    "    \n",
    "    # Crea sliders interactivos para slice y modalidad\n",
    "    interact(display_image, \n",
    "             slice_index=IntSlider(min=0, max=img.shape[0]-1, step=1, \n",
    "                                   value=img.shape[0]//2, description=\"Tiempo\"),\n",
    "             modality_index=IntSlider(min=0, max=img.shape[1]-1, step=1, \n",
    "                                      value=0, description=\"Modalidad\"))\n",
    "\n",
    "# Ejemplo de uso:\n",
    "file_path = \"/data/dev/perfu-net-1/data/train/CTP/case_22_02.npy\"  # Ajusta la ruta según corresponda\n",
    "visualize_medical_image(file_path)\n"
   ]
  },
  {
   "cell_type": "code",
   "execution_count": null,
   "metadata": {
    "vscode": {
     "languageId": "plaintext"
    }
   },
   "outputs": [],
   "source": [
    "def generar_histograma_global(ruta_carpeta, indice_c=0, num_bins=100):\n",
    "    \"\"\"\n",
    "    Busca todos los .npy en la carpeta 'ruta_carpeta', asume que cada archivo tiene forma (T, C, H, W).\n",
    "    Extrae los valores de la dimensión C=indice_c y los acumula en un array global.\n",
    "    Luego muestra un histograma de todos los valores juntos.\n",
    "    \n",
    "    Parámetros:\n",
    "    -----------\n",
    "    ruta_carpeta : str\n",
    "        Ruta a la carpeta que contiene los archivos .npy.\n",
    "    indice_c : int\n",
    "        Índice de la dimensión C que se quiere extraer (por defecto 0).\n",
    "    num_bins : int\n",
    "        Número de bins en el histograma.\n",
    "    \"\"\"\n",
    "    archivos_npy = sorted(glob(os.path.join(ruta_carpeta, '*.npy')))\n",
    "    print(f\"Encontrados {len(archivos_npy)} archivos en '{ruta_carpeta}'.\")\n",
    "    \n",
    "    # Lista para acumular los valores de la dimensión c=0 de TODOS los archivos\n",
    "    all_values = []\n",
    "    \n",
    "    for archivo in archivos_npy:\n",
    "        data = np.load(archivo)  # data.shape debe ser (T, C, H, W)\n",
    "        \n",
    "        # Comprobamos que data tenga al menos 2 dimensiones en 'C'\n",
    "        if data.shape[1] <= indice_c:\n",
    "            print(f\"ADVERTENCIA: El archivo '{archivo}' no tiene C > {indice_c}. Shape: {data.shape}\")\n",
    "            continue\n",
    "        \n",
    "        # Extraer la submatriz correspondiente a c=indice_c: data[:, indice_c, :, :]\n",
    "        data_c0 = data[:, indice_c, :, :]\n",
    "        \n",
    "        # Aplanar (flatten) y añadir a la lista\n",
    "        all_values.append(data_c0.ravel())\n",
    "\n",
    "        # Obtener min y max\n",
    "        min_val = data_c0.min()\n",
    "        max_val = data_c0.max()\n",
    "        \n",
    "        # Imprimir\n",
    "        print(f\"Archivo: {os.path.basename(archivo)} | Shape: {data.shape} | Min: {min_val:.2f}, Max: {max_val:.2f}\")\n",
    "\n",
    "    if len(all_values) == 0:\n",
    "        print(\"No se pudo extraer ningún dato (verifica las dimensiones de tus archivos).\")\n",
    "        return\n",
    "    \n",
    "    all_values = np.concatenate(all_values, axis=0)\n",
    "    print(f\"Tamaño total de datos para histograma: {all_values.size} voxels/píxeles.\")\n",
    "    print(f\"Valores mínimos y máximos: {all_values.min()} - {all_values.max()}\")\n",
    "    \n",
    "    plt.figure(figsize=(6, 4))\n",
    "    plt.hist(all_values, bins=num_bins, color='blue', alpha=0.7)\n",
    "    plt.title(f\"Histograma global (C={indice_c}) - {len(archivos_npy)} archivos\")\n",
    "    plt.xlabel(\"Intensidad\")\n",
    "    plt.ylabel(\"Frecuencia\")\n",
    "    plt.show()"
   ]
  },
  {
   "cell_type": "code",
   "execution_count": null,
   "metadata": {
    "vscode": {
     "languageId": "plaintext"
    }
   },
   "outputs": [],
   "source": [
    "generar_histograma_global(\"/data/dev/perfu-net/data/train/CTP\")"
   ]
  }
 ],
 "metadata": {
  "language_info": {
   "name": "python"
  }
 },
 "nbformat": 4,
 "nbformat_minor": 2
}
