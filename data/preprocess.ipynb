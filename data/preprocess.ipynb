{
 "cells": [
  {
   "cell_type": "markdown",
   "metadata": {
    "collapsed": true,
    "pycharm": {
     "name": "#%% md\n"
    }
   },
   "source": [
    "### Preprocess data"
   ]
  },
  {
   "cell_type": "code",
   "execution_count": 19,
   "outputs": [],
   "source": [
    "import os, glob\n",
    "import numpy as np\n",
    "import SimpleITK as sitk\n",
    "import torch\n",
    "import nibabel as nib\n",
    "import shutil\n",
    "import matplotlib.pyplot as plt\n",
    "import torch.nn.functional as F\n",
    "from skimage.exposure import equalize_hist\n",
    "from einops.einops import rearrange"
   ],
   "metadata": {
    "collapsed": false,
    "pycharm": {
     "name": "#%%\n"
    }
   }
  },
  {
   "cell_type": "code",
   "execution_count": 124,
   "outputs": [],
   "source": [
    "def getSymmetricRepresentation(ct_volume):\n",
    "    # the volume is either h x w x t or h x w x modalities with the first modality the NCCT\n",
    "    ct_slice = ct_volume[0]\n",
    "    ct_slice_flipped = np.fliplr(ct_slice)\n",
    "    fixedImage = sitk.GetImageFromArray(ct_slice)\n",
    "    movingImage = sitk.GetImageFromArray(ct_slice_flipped)\n",
    "\n",
    "    # Elastix part, determine rotation\n",
    "    parameterMap = sitk.GetDefaultParameterMap(\"rigid\")\n",
    "    elastixImageFilter = sitk.ElastixImageFilter()\n",
    "    elastixImageFilter.SetFixedImage(fixedImage)\n",
    "    elastixImageFilter.SetMovingImage(movingImage)\n",
    "    elastixImageFilter.LogToFileOn()\n",
    "    elastixImageFilter.SetParameterMap(parameterMap)\n",
    "    resultImage = elastixImageFilter.Execute()\n",
    "\n",
    "    # We now determined the transformation of the flipped scan to the original,\n",
    "    # either for the first frame or for the first modality\n",
    "    # Now we apply the same transformation to the other modalities or the other frames\n",
    "\n",
    "    empty = np.zeros((ct_volume.shape[0],256,256))\n",
    "    for frame_nr in range(ct_volume.shape[0]):\n",
    "        frame = ct_volume[frame_nr,:,:]\n",
    "        frame_flipped = np.fliplr(frame)\n",
    "        movingFrame = sitk.GetImageFromArray(frame_flipped)\n",
    "        frameResult = sitk.Transformix(movingFrame, elastixImageFilter.GetTransformParameterMap())\n",
    "        empty[frame_nr,:,:] = sitk.GetArrayFromImage(frameResult)\n",
    "    return empty\n",
    "\n",
    "def getSym(volume):\n",
    "    empty = np.zeros((volume.shape[0],256,256,2))\n",
    "    sym_frame = getSymmetricRepresentation(volume)\n",
    "    print(sym_frame.shape)\n",
    "    empty[...,0] = volume\n",
    "    empty[...,1] = sym_frame\n",
    "    return empty\n",
    "\n",
    "def preprocessor(nifti, clip_value): #3D nifti\n",
    "    # Clip entire 4D volume\n",
    "    nifti = np.clip(nifti, 0, clip_value)\n",
    "    # Equalize entire histogram\n",
    "    nifti = equalize_hist(nifti, nbins=20000, mask=(nifti > 0))\n",
    "    nifti = nifti - np.min(nifti)\n",
    "    # Shift distribution, not the zeroes\n",
    "    mask=(nifti > 0)\n",
    "    mdata = np.ma.masked_array(nifti, mask=~mask.astype(bool))\n",
    "    mdata =(mdata - 0.5)\n",
    "    mdata.mask = np.ma.nomask\n",
    "    return mdata\n",
    "\n",
    "def smoothing(array):\n",
    "    kernel = np.array([.25, .5, .25])\n",
    "    # h w c t\n",
    "    channel0 = array[:,:,0,:]\n",
    "    channel1 = array[:,:,1,:]\n",
    "    kernel = torch.tensor(kernel).to('cuda')\n",
    "    kernel = kernel.view(1,1,3)\n",
    "    empty = np.empty([256,256,2,array.shape[-1]//2])\n",
    "    for i in range(256):\n",
    "        for j in range(256):\n",
    "            vector0 = torch.tensor(channel0[i,j,:]).to('cuda')\n",
    "            vector0 = vector0.view(1,1,len(vector0))\n",
    "            output0 = F.conv1d(vector0, kernel, stride=2, padding=0)\n",
    "            output0 = output0.cpu().numpy()\n",
    "            empty[i,j,0,:] = output0\n",
    "\n",
    "            vector1 = torch.tensor(channel1[i,j,:]).to('cuda')\n",
    "            vector1 = vector1.view(1,1,len(vector1))\n",
    "            output1 = F.conv1d(vector1, kernel, stride=2, padding=0)\n",
    "            output1 = output1.cpu().numpy()\n",
    "            empty[i,j,1,:] = output1\n",
    "    return empty\n",
    "\n",
    "def write_np(array, path):\n",
    "    with open(path, 'wb') as f:\n",
    "        np.save(f, array)"
   ],
   "metadata": {
    "collapsed": false,
    "pycharm": {
     "name": "#%%\n"
    }
   }
  },
  {
   "cell_type": "code",
   "execution_count": 132,
   "outputs": [],
   "source": [
    "def datamaker(case = 8, dataset='TRAINING'):\n",
    "    path = os.path.join('ISLES2018',dataset)\n",
    "    for file in glob.glob(os.path.join(path,f'case_{case}','*/*.nii')):\n",
    "        if 'CT_MTT' in file:\n",
    "            CT_MTT = sitk.GetArrayFromImage(sitk.ReadImage(file))\n",
    "            CT_MTT = rearrange(CT_MTT, 'd h (w c) -> c h w d', c=1)\n",
    "        if 'CT_Tmax' in file:\n",
    "            CT_Tmax = sitk.GetArrayFromImage(sitk.ReadImage(file))\n",
    "            CT_Tmax = rearrange(CT_Tmax, 'd h (w c) -> c h w d', c=1)\n",
    "        if 'CT_CBF' in file:\n",
    "            CT_CBF = sitk.GetArrayFromImage(sitk.ReadImage(file))\n",
    "            CT_CBF = rearrange(CT_CBF, 'd h (w c) -> c h w d', c=1)\n",
    "        if 'CT_CBV' in file:\n",
    "            CT_CBV = sitk.GetArrayFromImage(sitk.ReadImage(file))\n",
    "            CT_CBV = rearrange(CT_CBV, 'd h (w c) -> c h w d', c=1)\n",
    "        if 'OT' in file and dataset=='TRAINING':\n",
    "            CT_MASK = sitk.GetArrayFromImage(sitk.ReadImage(file))\n",
    "            CT_MASK = rearrange(CT_MASK, 'd h w -> h w d')\n",
    "        if 'CT_4DPWI' in file:\n",
    "            CT_4DPWI = sitk.GetArrayFromImage(sitk.ReadImage(file))\n",
    "            CT_4DPWI = rearrange(CT_4DPWI, ' t d h w -> t h w d')\n",
    "        if '.CT.' in file:\n",
    "            CT = sitk.GetArrayFromImage(sitk.ReadImage(file))\n",
    "            CT = rearrange(CT, 'd h (w c) -> c h w d', c=1)\n",
    "    print('Data case %i loaded'%(case))\n",
    "    folder = 'train' if dataset == 'TRAINING' else 'test'\n",
    "    os.makedirs(os.path.join(os.getcwd(), folder, 'COMPLETE_MASK'), exist_ok=True)\n",
    "    maskpath = [file for file in glob.glob(os.path.join(path,f'case_{case}','*/*.nii')) if 'OT' in file][0]\n",
    "    savename = os.path.join(os.getcwd(), folder, 'COMPLETE_MASK', 'case_{}.nii'.format(str(case).zfill(2)))\n",
    "    shutil.copy(maskpath,savename)\n",
    "    # create brainmask\n",
    "    CT_SKULL = CT\n",
    "    skull = CT_CBV + CT_MTT + CT_Tmax + CT_CBF\n",
    "    skull = (skull>0)\n",
    "\n",
    "    CT = np.multiply(skull,CT)\n",
    "    # create CTP without skull\n",
    "    skull_frames = np.zeros(CT_4DPWI.shape)\n",
    "    for i in range(CT_4DPWI.shape[0]):\n",
    "        skull_frames[0,...] = skull[0,...]\n",
    "    CT_4DPWI  = np.multiply(skull_frames,CT_4DPWI)\n",
    "    # we generate the data per slice\n",
    "    for _z in range(CT.shape[-1]):\n",
    "        # We only use slices with infarcts fro training\n",
    "        if np.max(CT_MASK[:,:,_z]) != 1.0 and dataset=='TRAINING':\n",
    "            print('Slice without infarct found, continuing')\n",
    "            continue\n",
    "\n",
    "        baseline = preprocessor(CT[:,:,:,_z], 500)\n",
    "        mtt = preprocessor(CT_MTT[:,:,:,_z], 500)\n",
    "        tmax = preprocessor(CT_Tmax[:,:,:,_z], 500)\n",
    "        cbf = preprocessor(CT_CBF[:,:,:,_z], 500)\n",
    "        cbv = preprocessor(CT_CBV[:,:,:,_z], 500)\n",
    "        ct_with_skull = preprocessor(CT_SKULL[:,:,:,_z], 500)\n",
    "        ctp = preprocessor(CT_4DPWI[:,:,:,_z], 500)\n",
    "        ctp_sym = getSym(ctp) # h x w x c x t\n",
    "        ctp_sym =  rearrange(ctp_sym, 't h w c -> h w c t')\n",
    "        ctp_sym = smoothing(ctp_sym)\n",
    "        ct_modalities = np.concatenate([baseline, mtt, tmax, cbf, cbv,ct_with_skull], axis=0)\n",
    "\n",
    "        ct_modalities_sym = getSym(ct_modalities)\n",
    "\n",
    "        ct_modalities_sym =  rearrange(ct_modalities_sym, 'mods h w c -> mods c h w')\n",
    "        ctp_sym =  rearrange(ctp_sym, 'h w c t -> t c h w')\n",
    "\n",
    "        folder = 'train' if dataset == 'TRAINING' else 'test'\n",
    "        os.makedirs(os.path.join(os.getcwd(), folder, 'CTP'), exist_ok=True)\n",
    "        os.makedirs(os.path.join(os.getcwd(), folder, 'CT'), exist_ok=True)\n",
    "        os.makedirs(os.path.join(os.getcwd(), folder, 'CTP_CBF'), exist_ok=True)\n",
    "        os.makedirs(os.path.join(os.getcwd(), folder, 'CTP_CBV'), exist_ok=True)\n",
    "        os.makedirs(os.path.join(os.getcwd(), folder, 'CTP_MTT'), exist_ok=True)\n",
    "        os.makedirs(os.path.join(os.getcwd(), folder, 'CTP_Tmax'), exist_ok=True)\n",
    "        os.makedirs(os.path.join(os.getcwd(), folder, 'MASK'), exist_ok=True)\n",
    "        write_np(ct_modalities_sym[0], os.path.join(os.getcwd(), folder, 'CT', 'case_%s_%s.npy'%(str(case).zfill(2),str(_z).zfill(2))))\n",
    "        write_np(ct_modalities_sym[1], os.path.join(os.getcwd(), folder, 'CTP_MTT', 'case_%s_%s.npy'%(str(case).zfill(2),str(_z).zfill(2))))\n",
    "        write_np(ct_modalities_sym[2], os.path.join(os.getcwd(), folder, 'CTP_Tmax', 'case_%s_%s.npy'%(str(case).zfill(2),str(_z).zfill(2))))\n",
    "        write_np(ct_modalities_sym[3], os.path.join(os.getcwd(), folder, 'CTP_CBF', 'case_%s_%s.npy'%(str(case).zfill(2),str(_z).zfill(2))))\n",
    "        write_np(ct_modalities_sym[4], os.path.join(os.getcwd(), folder, 'CTP_CBV', 'case_%s_%s.npy'%(str(case).zfill(2),str(_z).zfill(2))))\n",
    "        write_np(ctp_sym, os.path.join(os.getcwd(), folder, 'CTP', 'case_%s_%s.npy'%(str(case).zfill(2),str(_z).zfill(2))))\n",
    "        if dataset=='TRAINING':\n",
    "            write_np(CT_MASK[:,:,_z], os.path.join(os.getcwd(), folder, 'MASK', 'case_%s_%s.npy'%(str(case).zfill(2),str(_z).zfill(2))))"
   ],
   "metadata": {
    "collapsed": false,
    "pycharm": {
     "name": "#%%\n"
    }
   }
  },
  {
   "cell_type": "code",
   "execution_count": 133,
   "outputs": [
    {
     "name": "stdout",
     "output_type": "stream",
     "text": [
      "Data case 8 loaded\n",
      "(1, 256, 256, 8)\n",
      "(49, 256, 256, 8) (1, 256, 256, 8)\n",
      "(49, 256, 256, 8) (1, 256, 256, 8)\n",
      "(49, 256, 256)\n",
      "(49, 256, 256)\n",
      "(256, 256, 2, 49) (1, 256, 256)\n",
      "(6, 256, 256) (1, 256, 256)\n",
      "(6, 256, 256)\n",
      "(6, 256, 256, 2) (1, 256, 256)\n",
      "(49, 256, 256)\n",
      "(49, 256, 256)\n",
      "(256, 256, 2, 49) (1, 256, 256)\n",
      "(6, 256, 256) (1, 256, 256)\n",
      "(6, 256, 256)\n",
      "(6, 256, 256, 2) (1, 256, 256)\n",
      "(49, 256, 256)\n",
      "(49, 256, 256)\n",
      "(256, 256, 2, 49) (1, 256, 256)\n",
      "(6, 256, 256) (1, 256, 256)\n",
      "(6, 256, 256)\n",
      "(6, 256, 256, 2) (1, 256, 256)\n",
      "(49, 256, 256)\n",
      "(49, 256, 256)\n",
      "(256, 256, 2, 49) (1, 256, 256)\n",
      "(6, 256, 256) (1, 256, 256)\n",
      "(6, 256, 256)\n",
      "(6, 256, 256, 2) (1, 256, 256)\n",
      "Slice without infarct found, continuing\n",
      "Slice without infarct found, continuing\n",
      "Slice without infarct found, continuing\n",
      "Slice without infarct found, continuing\n"
     ]
    }
   ],
   "source": [
    "for i in range(95):\n",
    "    datamaker(case=i)"
   ],
   "metadata": {
    "collapsed": false,
    "pycharm": {
     "name": "#%%\n"
    }
   }
  },
  {
   "cell_type": "code",
   "execution_count": null,
   "outputs": [],
   "source": [],
   "metadata": {
    "collapsed": false,
    "pycharm": {
     "name": "#%%\n"
    }
   }
  }
 ],
 "metadata": {
  "kernelspec": {
   "display_name": "Python 3",
   "language": "python",
   "name": "python3"
  },
  "language_info": {
   "codemirror_mode": {
    "name": "ipython",
    "version": 2
   },
   "file_extension": ".py",
   "mimetype": "text/x-python",
   "name": "python",
   "nbconvert_exporter": "python",
   "pygments_lexer": "ipython2",
   "version": "2.7.6"
  }
 },
 "nbformat": 4,
 "nbformat_minor": 0
}