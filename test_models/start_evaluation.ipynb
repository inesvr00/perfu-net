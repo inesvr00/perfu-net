{
 "cells": [
  {
   "cell_type": "markdown",
   "source": [
    "### Download models from Weights and Biases\n",
    "Download the models that you want to evaluate on the test set. Most likely they will be in the same sweep."
   ],
   "metadata": {
    "collapsed": false
   }
  },
  {
   "cell_type": "code",
   "execution_count": 4,
   "metadata": {},
   "outputs": [],
   "source": [
    "import os"
   ]
  },
  {
   "cell_type": "code",
   "execution_count": 5,
   "metadata": {},
   "outputs": [],
   "source": [
    "head = os.getcwd()"
   ]
  },
  {
   "cell_type": "markdown",
   "source": [
    "Copy the run IDs below and pull the folders"
   ],
   "metadata": {
    "collapsed": false,
    "pycharm": {
     "name": "#%% md\n"
    }
   }
  },
  {
   "cell_type": "code",
   "execution_count": 6,
   "outputs": [],
   "source": [
    "# example\n",
    "runids = [\"kiuu8gtj\",\"84dab8mg\",\"7y8rvre6\",\"mxt1s3zg\",\n",
    "          \"8r7oqm8b\",\"c8nqhum3\",\"oln5g0y9\",\"if3p0bcd\",\n",
    "          \"0535y9bw\",\"lie765j8\",\"9w5ubhxr\",\"9c3zeyg3\",\n",
    "          \"4hudo3is\",\"81d8seok\",\"ky7cp9vn\",\"jmitis3f\",\n",
    "          \"n2u6pkyl\",\"0qu12swp\",\"0sqyuiw7\",\"6zh58hyx\"]"
   ],
   "metadata": {
    "collapsed": false,
    "pycharm": {
     "name": "#%%\n"
    }
   }
  },
  {
   "cell_type": "markdown",
   "source": [
    "Change this to your username and project from W&B."
   ],
   "metadata": {
    "collapsed": false
   }
  },
  {
   "cell_type": "code",
   "execution_count": 5,
   "metadata": {
    "pycharm": {
     "name": "#%%\n"
    }
   },
   "outputs": [],
   "source": [
    "for ix, run in enumerate(runids):\n",
    "    foldername = run\n",
    "    os.makedirs(foldername, exist_ok=True)\n",
    "    os.chdir(foldername)\n",
    "    os.system('wandb pull -e lucasdevries -p perfu-net ' + run)\n",
    "    os.chdir(head)"
   ]
  },
  {
   "cell_type": "markdown",
   "source": [
    "Hereafter, past this list under model_path in `InferenceSweep.yaml`:"
   ],
   "metadata": {
    "collapsed": false
   }
  },
  {
   "cell_type": "code",
   "execution_count": 7,
   "outputs": [
    {
     "name": "stdout",
     "output_type": "stream",
     "text": [
      "- \"kiuu8gtj\"\n",
      "- \"84dab8mg\"\n",
      "- \"7y8rvre6\"\n",
      "- \"mxt1s3zg\"\n",
      "- \"8r7oqm8b\"\n",
      "- \"c8nqhum3\"\n",
      "- \"oln5g0y9\"\n",
      "- \"if3p0bcd\"\n",
      "- \"0535y9bw\"\n",
      "- \"lie765j8\"\n",
      "- \"9w5ubhxr\"\n",
      "- \"9c3zeyg3\"\n",
      "- \"4hudo3is\"\n",
      "- \"81d8seok\"\n",
      "- \"ky7cp9vn\"\n",
      "- \"jmitis3f\"\n",
      "- \"n2u6pkyl\"\n",
      "- \"0qu12swp\"\n",
      "- \"0sqyuiw7\"\n",
      "- \"6zh58hyx\"\n"
     ]
    }
   ],
   "source": [
    "for id in runids:\n",
    "    print(f'- \"{id}\"')"
   ],
   "metadata": {
    "collapsed": false,
    "pycharm": {
     "name": "#%%\n"
    }
   }
  },
  {
   "cell_type": "markdown",
   "source": [
    "And then run the sweep. Download the outputs of the test runs again, changing the list of IDs above to the IDs from the test set runs.\n",
    "Move on to notebook `get_testset_results` to create the test set submissions.\n"
   ],
   "metadata": {
    "collapsed": false,
    "pycharm": {
     "name": "#%% md\n"
    }
   }
  },
  {
   "cell_type": "code",
   "execution_count": null,
   "outputs": [],
   "source": [],
   "metadata": {
    "collapsed": false,
    "pycharm": {
     "name": "#%%\n"
    }
   }
  }
 ],
 "metadata": {
  "kernelspec": {
   "display_name": "Python 3",
   "language": "python",
   "name": "python3"
  },
  "language_info": {
   "codemirror_mode": {
    "name": "ipython",
    "version": 3
   },
   "file_extension": ".py",
   "mimetype": "text/x-python",
   "name": "python",
   "nbconvert_exporter": "python",
   "pygments_lexer": "ipython3",
   "version": "3.8.5"
  }
 },
 "nbformat": 4,
 "nbformat_minor": 4
}